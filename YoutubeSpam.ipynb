{
  "nbformat": 4,
  "nbformat_minor": 0,
  "metadata": {
    "colab": {
      "provenance": [],
      "collapsed_sections": [
        "6Qz975eoZbWV"
      ],
      "authorship_tag": "ABX9TyM9g5PsHnDmBhRcHTdgm98R",
      "include_colab_link": true
    },
    "kernelspec": {
      "name": "python3",
      "display_name": "Python 3"
    },
    "language_info": {
      "name": "python"
    }
  },
  "cells": [
    {
      "cell_type": "markdown",
      "metadata": {
        "id": "view-in-github",
        "colab_type": "text"
      },
      "source": [
        "<a href=\"https://colab.research.google.com/github/meliisyyilmaz/YoutubeSpam/blob/main/YoutubeSpam.ipynb\" target=\"_parent\"><img src=\"https://colab.research.google.com/assets/colab-badge.svg\" alt=\"Open In Colab\"/></a>"
      ]
    },
    {
      "cell_type": "code",
      "source": [
        "!pip install accelerate -U"
      ],
      "metadata": {
        "colab": {
          "base_uri": "https://localhost:8080/"
        },
        "id": "yCMESaLyp5D2",
        "outputId": "56332e29-a4f6-4f40-a147-c88af88e6773"
      },
      "execution_count": null,
      "outputs": [
        {
          "output_type": "stream",
          "name": "stdout",
          "text": [
            "Collecting accelerate\n",
            "  Downloading accelerate-0.29.3-py3-none-any.whl (297 kB)\n",
            "\u001b[?25l     \u001b[90m━━━━━━━━━━━━━━━━━━━━━━━━━━━━━━━━━━━━━━━━\u001b[0m \u001b[32m0.0/297.6 kB\u001b[0m \u001b[31m?\u001b[0m eta \u001b[36m-:--:--\u001b[0m\r\u001b[2K     \u001b[91m━━━━━━━━━━━━━━━━━━━\u001b[0m\u001b[90m╺\u001b[0m\u001b[90m━━━━━━━━━━━━━━━━━━━━\u001b[0m \u001b[32m143.4/297.6 kB\u001b[0m \u001b[31m4.1 MB/s\u001b[0m eta \u001b[36m0:00:01\u001b[0m\r\u001b[2K     \u001b[90m━━━━━━━━━━━━━━━━━━━━━━━━━━━━━━━━━━━━━━━━\u001b[0m \u001b[32m297.6/297.6 kB\u001b[0m \u001b[31m5.5 MB/s\u001b[0m eta \u001b[36m0:00:00\u001b[0m\n",
            "\u001b[?25hRequirement already satisfied: numpy>=1.17 in /usr/local/lib/python3.10/dist-packages (from accelerate) (1.25.2)\n",
            "Requirement already satisfied: packaging>=20.0 in /usr/local/lib/python3.10/dist-packages (from accelerate) (24.0)\n",
            "Requirement already satisfied: psutil in /usr/local/lib/python3.10/dist-packages (from accelerate) (5.9.5)\n",
            "Requirement already satisfied: pyyaml in /usr/local/lib/python3.10/dist-packages (from accelerate) (6.0.1)\n",
            "Requirement already satisfied: torch>=1.10.0 in /usr/local/lib/python3.10/dist-packages (from accelerate) (2.2.1+cu121)\n",
            "Requirement already satisfied: huggingface-hub in /usr/local/lib/python3.10/dist-packages (from accelerate) (0.20.3)\n",
            "Requirement already satisfied: safetensors>=0.3.1 in /usr/local/lib/python3.10/dist-packages (from accelerate) (0.4.3)\n",
            "Requirement already satisfied: filelock in /usr/local/lib/python3.10/dist-packages (from torch>=1.10.0->accelerate) (3.13.4)\n",
            "Requirement already satisfied: typing-extensions>=4.8.0 in /usr/local/lib/python3.10/dist-packages (from torch>=1.10.0->accelerate) (4.11.0)\n",
            "Requirement already satisfied: sympy in /usr/local/lib/python3.10/dist-packages (from torch>=1.10.0->accelerate) (1.12)\n",
            "Requirement already satisfied: networkx in /usr/local/lib/python3.10/dist-packages (from torch>=1.10.0->accelerate) (3.3)\n",
            "Requirement already satisfied: jinja2 in /usr/local/lib/python3.10/dist-packages (from torch>=1.10.0->accelerate) (3.1.3)\n",
            "Requirement already satisfied: fsspec in /usr/local/lib/python3.10/dist-packages (from torch>=1.10.0->accelerate) (2023.6.0)\n",
            "Collecting nvidia-cuda-nvrtc-cu12==12.1.105 (from torch>=1.10.0->accelerate)\n",
            "  Using cached nvidia_cuda_nvrtc_cu12-12.1.105-py3-none-manylinux1_x86_64.whl (23.7 MB)\n",
            "Collecting nvidia-cuda-runtime-cu12==12.1.105 (from torch>=1.10.0->accelerate)\n",
            "  Using cached nvidia_cuda_runtime_cu12-12.1.105-py3-none-manylinux1_x86_64.whl (823 kB)\n",
            "Collecting nvidia-cuda-cupti-cu12==12.1.105 (from torch>=1.10.0->accelerate)\n",
            "  Using cached nvidia_cuda_cupti_cu12-12.1.105-py3-none-manylinux1_x86_64.whl (14.1 MB)\n",
            "Collecting nvidia-cudnn-cu12==8.9.2.26 (from torch>=1.10.0->accelerate)\n",
            "  Using cached nvidia_cudnn_cu12-8.9.2.26-py3-none-manylinux1_x86_64.whl (731.7 MB)\n",
            "Collecting nvidia-cublas-cu12==12.1.3.1 (from torch>=1.10.0->accelerate)\n",
            "  Using cached nvidia_cublas_cu12-12.1.3.1-py3-none-manylinux1_x86_64.whl (410.6 MB)\n",
            "Collecting nvidia-cufft-cu12==11.0.2.54 (from torch>=1.10.0->accelerate)\n",
            "  Using cached nvidia_cufft_cu12-11.0.2.54-py3-none-manylinux1_x86_64.whl (121.6 MB)\n",
            "Collecting nvidia-curand-cu12==10.3.2.106 (from torch>=1.10.0->accelerate)\n",
            "  Using cached nvidia_curand_cu12-10.3.2.106-py3-none-manylinux1_x86_64.whl (56.5 MB)\n",
            "Collecting nvidia-cusolver-cu12==11.4.5.107 (from torch>=1.10.0->accelerate)\n",
            "  Using cached nvidia_cusolver_cu12-11.4.5.107-py3-none-manylinux1_x86_64.whl (124.2 MB)\n",
            "Collecting nvidia-cusparse-cu12==12.1.0.106 (from torch>=1.10.0->accelerate)\n",
            "  Using cached nvidia_cusparse_cu12-12.1.0.106-py3-none-manylinux1_x86_64.whl (196.0 MB)\n",
            "Collecting nvidia-nccl-cu12==2.19.3 (from torch>=1.10.0->accelerate)\n",
            "  Using cached nvidia_nccl_cu12-2.19.3-py3-none-manylinux1_x86_64.whl (166.0 MB)\n",
            "Collecting nvidia-nvtx-cu12==12.1.105 (from torch>=1.10.0->accelerate)\n",
            "  Using cached nvidia_nvtx_cu12-12.1.105-py3-none-manylinux1_x86_64.whl (99 kB)\n",
            "Requirement already satisfied: triton==2.2.0 in /usr/local/lib/python3.10/dist-packages (from torch>=1.10.0->accelerate) (2.2.0)\n",
            "Collecting nvidia-nvjitlink-cu12 (from nvidia-cusolver-cu12==11.4.5.107->torch>=1.10.0->accelerate)\n",
            "  Using cached nvidia_nvjitlink_cu12-12.4.127-py3-none-manylinux2014_x86_64.whl (21.1 MB)\n",
            "Requirement already satisfied: requests in /usr/local/lib/python3.10/dist-packages (from huggingface-hub->accelerate) (2.31.0)\n",
            "Requirement already satisfied: tqdm>=4.42.1 in /usr/local/lib/python3.10/dist-packages (from huggingface-hub->accelerate) (4.66.2)\n",
            "Requirement already satisfied: MarkupSafe>=2.0 in /usr/local/lib/python3.10/dist-packages (from jinja2->torch>=1.10.0->accelerate) (2.1.5)\n",
            "Requirement already satisfied: charset-normalizer<4,>=2 in /usr/local/lib/python3.10/dist-packages (from requests->huggingface-hub->accelerate) (3.3.2)\n",
            "Requirement already satisfied: idna<4,>=2.5 in /usr/local/lib/python3.10/dist-packages (from requests->huggingface-hub->accelerate) (3.7)\n",
            "Requirement already satisfied: urllib3<3,>=1.21.1 in /usr/local/lib/python3.10/dist-packages (from requests->huggingface-hub->accelerate) (2.0.7)\n",
            "Requirement already satisfied: certifi>=2017.4.17 in /usr/local/lib/python3.10/dist-packages (from requests->huggingface-hub->accelerate) (2024.2.2)\n",
            "Requirement already satisfied: mpmath>=0.19 in /usr/local/lib/python3.10/dist-packages (from sympy->torch>=1.10.0->accelerate) (1.3.0)\n",
            "Installing collected packages: nvidia-nvtx-cu12, nvidia-nvjitlink-cu12, nvidia-nccl-cu12, nvidia-curand-cu12, nvidia-cufft-cu12, nvidia-cuda-runtime-cu12, nvidia-cuda-nvrtc-cu12, nvidia-cuda-cupti-cu12, nvidia-cublas-cu12, nvidia-cusparse-cu12, nvidia-cudnn-cu12, nvidia-cusolver-cu12, accelerate\n",
            "Successfully installed accelerate-0.29.3 nvidia-cublas-cu12-12.1.3.1 nvidia-cuda-cupti-cu12-12.1.105 nvidia-cuda-nvrtc-cu12-12.1.105 nvidia-cuda-runtime-cu12-12.1.105 nvidia-cudnn-cu12-8.9.2.26 nvidia-cufft-cu12-11.0.2.54 nvidia-curand-cu12-10.3.2.106 nvidia-cusolver-cu12-11.4.5.107 nvidia-cusparse-cu12-12.1.0.106 nvidia-nccl-cu12-2.19.3 nvidia-nvjitlink-cu12-12.4.127 nvidia-nvtx-cu12-12.1.105\n"
          ]
        }
      ]
    },
    {
      "cell_type": "code",
      "source": [
        "device = torch.device('cuda' if torch.cuda.is_available() else 'cpu')"
      ],
      "metadata": {
        "id": "CiniRFR9rQbP"
      },
      "execution_count": null,
      "outputs": []
    },
    {
      "cell_type": "code",
      "execution_count": null,
      "metadata": {
        "colab": {
          "base_uri": "https://localhost:8080/"
        },
        "id": "LemH-jjcJmok",
        "outputId": "341763fa-9453-4b3f-9832-b051b2de067b"
      },
      "outputs": [
        {
          "output_type": "stream",
          "name": "stdout",
          "text": [
            "Populating the interactive namespace from numpy and matplotlib\n"
          ]
        }
      ],
      "source": [
        "import numpy as np\n",
        "import pandas as pd\n",
        "\n",
        "\n",
        "from sklearn.feature_extraction.text import CountVectorizer\n",
        "from sklearn.feature_extraction.text import TfidfTransformer\n",
        "from sklearn.naive_bayes import MultinomialNB\n",
        "from sklearn.metrics import confusion_matrix\n",
        "from sklearn.model_selection import cross_val_score\n",
        "\n",
        "\n",
        "\n",
        "\n",
        "from sklearn.pipeline import Pipeline\n",
        "from sklearn.model_selection import train_test_split\n",
        "from sklearn.linear_model import LogisticRegression\n",
        "from sklearn.model_selection import cross_validate\n",
        "from sklearn.decomposition import PCA, TruncatedSVD\n",
        "\n",
        "import matplotlib.patches as mpatches\n",
        "from nltk import word_tokenize\n",
        "\n",
        "%pylab inline"
      ]
    },
    {
      "cell_type": "code",
      "source": [
        "df1=pd.read_csv('Youtube01-Psy.csv')\n",
        "df1"
      ],
      "metadata": {
        "colab": {
          "base_uri": "https://localhost:8080/",
          "height": 589
        },
        "id": "UZI6HJTJJ49j",
        "outputId": "8dfaf599-f6fb-4ea9-fb18-596fade74576"
      },
      "execution_count": null,
      "outputs": [
        {
          "output_type": "execute_result",
          "data": {
            "text/plain": [
              "                                      COMMENT_ID  \\\n",
              "0    LZQPQhLyRh80UYxNuaDWhIGQYNQ96IuCg-AYWqNPjpU   \n",
              "1    LZQPQhLyRh_C2cTtd9MvFRJedxydaVW-2sNg5Diuo4A   \n",
              "2    LZQPQhLyRh9MSZYnf8djyk0gEF9BHDPYrrK-qCczIY8   \n",
              "3            z13jhp0bxqncu512g22wvzkasxmvvzjaz04   \n",
              "4            z13fwbwp1oujthgqj04chlngpvzmtt3r3dw   \n",
              "..                                           ...   \n",
              "345            z13th1q4yzihf1bll23qxzpjeujterydj   \n",
              "346        z13fcn1wfpb5e51xe04chdxakpzgchyaxzo0k   \n",
              "347          z130zd5b3titudkoe04ccbeohojxuzppvbg   \n",
              "348          z12he50arvrkivl5u04cctawgxzkjfsjcc4   \n",
              "349        z13vhvu54u3ewpp5h04ccb4zuoardrmjlyk0k   \n",
              "\n",
              "                                   AUTHOR                 DATE  \\\n",
              "0                               Julius NM  2013-11-07T06:20:48   \n",
              "1                             adam riyati  2013-11-07T12:37:15   \n",
              "2                        Evgeny Murashkin  2013-11-08T17:34:21   \n",
              "3                         ElNino Melendez  2013-11-09T08:28:43   \n",
              "4                                  GsMega  2013-11-10T16:05:38   \n",
              "..                                    ...                  ...   \n",
              "345                       Carmen Racasanu  2014-11-14T13:27:52   \n",
              "346                       diego mogrovejo  2014-11-14T13:28:08   \n",
              "347  BlueYetiPlayz -Call Of Duty and More  2015-05-23T13:04:32   \n",
              "348                          Photo Editor  2015-06-05T14:14:48   \n",
              "349                            Ray Benich  2015-06-05T18:05:16   \n",
              "\n",
              "                                               CONTENT  CLASS  \n",
              "0    Huh, anyway check out this you[tube] channel: ...      1  \n",
              "1    Hey guys check out my new channel and our firs...      1  \n",
              "2               just for test I have to say murdev.com      1  \n",
              "3     me shaking my sexy ass on my channel enjoy ^_^ ﻿      1  \n",
              "4              watch?v=vtaRGgvGtWQ   Check this out .﻿      1  \n",
              "..                                                 ...    ...  \n",
              "345  How can this have 2 billion views when there's...      0  \n",
              "346         I don't now why I'm watching this in 2014﻿      0  \n",
              "347  subscribe to me for call of duty vids and give...      1  \n",
              "348  hi guys please my android photo editor downloa...      1  \n",
              "349  The first billion viewed this because they tho...      0  \n",
              "\n",
              "[350 rows x 5 columns]"
            ],
            "text/html": [
              "\n",
              "  <div id=\"df-984a66c4-624f-493d-b1c5-9cac0b2b9063\" class=\"colab-df-container\">\n",
              "    <div>\n",
              "<style scoped>\n",
              "    .dataframe tbody tr th:only-of-type {\n",
              "        vertical-align: middle;\n",
              "    }\n",
              "\n",
              "    .dataframe tbody tr th {\n",
              "        vertical-align: top;\n",
              "    }\n",
              "\n",
              "    .dataframe thead th {\n",
              "        text-align: right;\n",
              "    }\n",
              "</style>\n",
              "<table border=\"1\" class=\"dataframe\">\n",
              "  <thead>\n",
              "    <tr style=\"text-align: right;\">\n",
              "      <th></th>\n",
              "      <th>COMMENT_ID</th>\n",
              "      <th>AUTHOR</th>\n",
              "      <th>DATE</th>\n",
              "      <th>CONTENT</th>\n",
              "      <th>CLASS</th>\n",
              "    </tr>\n",
              "  </thead>\n",
              "  <tbody>\n",
              "    <tr>\n",
              "      <th>0</th>\n",
              "      <td>LZQPQhLyRh80UYxNuaDWhIGQYNQ96IuCg-AYWqNPjpU</td>\n",
              "      <td>Julius NM</td>\n",
              "      <td>2013-11-07T06:20:48</td>\n",
              "      <td>Huh, anyway check out this you[tube] channel: ...</td>\n",
              "      <td>1</td>\n",
              "    </tr>\n",
              "    <tr>\n",
              "      <th>1</th>\n",
              "      <td>LZQPQhLyRh_C2cTtd9MvFRJedxydaVW-2sNg5Diuo4A</td>\n",
              "      <td>adam riyati</td>\n",
              "      <td>2013-11-07T12:37:15</td>\n",
              "      <td>Hey guys check out my new channel and our firs...</td>\n",
              "      <td>1</td>\n",
              "    </tr>\n",
              "    <tr>\n",
              "      <th>2</th>\n",
              "      <td>LZQPQhLyRh9MSZYnf8djyk0gEF9BHDPYrrK-qCczIY8</td>\n",
              "      <td>Evgeny Murashkin</td>\n",
              "      <td>2013-11-08T17:34:21</td>\n",
              "      <td>just for test I have to say murdev.com</td>\n",
              "      <td>1</td>\n",
              "    </tr>\n",
              "    <tr>\n",
              "      <th>3</th>\n",
              "      <td>z13jhp0bxqncu512g22wvzkasxmvvzjaz04</td>\n",
              "      <td>ElNino Melendez</td>\n",
              "      <td>2013-11-09T08:28:43</td>\n",
              "      <td>me shaking my sexy ass on my channel enjoy ^_^ ﻿</td>\n",
              "      <td>1</td>\n",
              "    </tr>\n",
              "    <tr>\n",
              "      <th>4</th>\n",
              "      <td>z13fwbwp1oujthgqj04chlngpvzmtt3r3dw</td>\n",
              "      <td>GsMega</td>\n",
              "      <td>2013-11-10T16:05:38</td>\n",
              "      <td>watch?v=vtaRGgvGtWQ   Check this out .﻿</td>\n",
              "      <td>1</td>\n",
              "    </tr>\n",
              "    <tr>\n",
              "      <th>...</th>\n",
              "      <td>...</td>\n",
              "      <td>...</td>\n",
              "      <td>...</td>\n",
              "      <td>...</td>\n",
              "      <td>...</td>\n",
              "    </tr>\n",
              "    <tr>\n",
              "      <th>345</th>\n",
              "      <td>z13th1q4yzihf1bll23qxzpjeujterydj</td>\n",
              "      <td>Carmen Racasanu</td>\n",
              "      <td>2014-11-14T13:27:52</td>\n",
              "      <td>How can this have 2 billion views when there's...</td>\n",
              "      <td>0</td>\n",
              "    </tr>\n",
              "    <tr>\n",
              "      <th>346</th>\n",
              "      <td>z13fcn1wfpb5e51xe04chdxakpzgchyaxzo0k</td>\n",
              "      <td>diego mogrovejo</td>\n",
              "      <td>2014-11-14T13:28:08</td>\n",
              "      <td>I don't now why I'm watching this in 2014﻿</td>\n",
              "      <td>0</td>\n",
              "    </tr>\n",
              "    <tr>\n",
              "      <th>347</th>\n",
              "      <td>z130zd5b3titudkoe04ccbeohojxuzppvbg</td>\n",
              "      <td>BlueYetiPlayz -Call Of Duty and More</td>\n",
              "      <td>2015-05-23T13:04:32</td>\n",
              "      <td>subscribe to me for call of duty vids and give...</td>\n",
              "      <td>1</td>\n",
              "    </tr>\n",
              "    <tr>\n",
              "      <th>348</th>\n",
              "      <td>z12he50arvrkivl5u04cctawgxzkjfsjcc4</td>\n",
              "      <td>Photo Editor</td>\n",
              "      <td>2015-06-05T14:14:48</td>\n",
              "      <td>hi guys please my android photo editor downloa...</td>\n",
              "      <td>1</td>\n",
              "    </tr>\n",
              "    <tr>\n",
              "      <th>349</th>\n",
              "      <td>z13vhvu54u3ewpp5h04ccb4zuoardrmjlyk0k</td>\n",
              "      <td>Ray Benich</td>\n",
              "      <td>2015-06-05T18:05:16</td>\n",
              "      <td>The first billion viewed this because they tho...</td>\n",
              "      <td>0</td>\n",
              "    </tr>\n",
              "  </tbody>\n",
              "</table>\n",
              "<p>350 rows × 5 columns</p>\n",
              "</div>\n",
              "    <div class=\"colab-df-buttons\">\n",
              "\n",
              "  <div class=\"colab-df-container\">\n",
              "    <button class=\"colab-df-convert\" onclick=\"convertToInteractive('df-984a66c4-624f-493d-b1c5-9cac0b2b9063')\"\n",
              "            title=\"Convert this dataframe to an interactive table.\"\n",
              "            style=\"display:none;\">\n",
              "\n",
              "  <svg xmlns=\"http://www.w3.org/2000/svg\" height=\"24px\" viewBox=\"0 -960 960 960\">\n",
              "    <path d=\"M120-120v-720h720v720H120Zm60-500h600v-160H180v160Zm220 220h160v-160H400v160Zm0 220h160v-160H400v160ZM180-400h160v-160H180v160Zm440 0h160v-160H620v160ZM180-180h160v-160H180v160Zm440 0h160v-160H620v160Z\"/>\n",
              "  </svg>\n",
              "    </button>\n",
              "\n",
              "  <style>\n",
              "    .colab-df-container {\n",
              "      display:flex;\n",
              "      gap: 12px;\n",
              "    }\n",
              "\n",
              "    .colab-df-convert {\n",
              "      background-color: #E8F0FE;\n",
              "      border: none;\n",
              "      border-radius: 50%;\n",
              "      cursor: pointer;\n",
              "      display: none;\n",
              "      fill: #1967D2;\n",
              "      height: 32px;\n",
              "      padding: 0 0 0 0;\n",
              "      width: 32px;\n",
              "    }\n",
              "\n",
              "    .colab-df-convert:hover {\n",
              "      background-color: #E2EBFA;\n",
              "      box-shadow: 0px 1px 2px rgba(60, 64, 67, 0.3), 0px 1px 3px 1px rgba(60, 64, 67, 0.15);\n",
              "      fill: #174EA6;\n",
              "    }\n",
              "\n",
              "    .colab-df-buttons div {\n",
              "      margin-bottom: 4px;\n",
              "    }\n",
              "\n",
              "    [theme=dark] .colab-df-convert {\n",
              "      background-color: #3B4455;\n",
              "      fill: #D2E3FC;\n",
              "    }\n",
              "\n",
              "    [theme=dark] .colab-df-convert:hover {\n",
              "      background-color: #434B5C;\n",
              "      box-shadow: 0px 1px 3px 1px rgba(0, 0, 0, 0.15);\n",
              "      filter: drop-shadow(0px 1px 2px rgba(0, 0, 0, 0.3));\n",
              "      fill: #FFFFFF;\n",
              "    }\n",
              "  </style>\n",
              "\n",
              "    <script>\n",
              "      const buttonEl =\n",
              "        document.querySelector('#df-984a66c4-624f-493d-b1c5-9cac0b2b9063 button.colab-df-convert');\n",
              "      buttonEl.style.display =\n",
              "        google.colab.kernel.accessAllowed ? 'block' : 'none';\n",
              "\n",
              "      async function convertToInteractive(key) {\n",
              "        const element = document.querySelector('#df-984a66c4-624f-493d-b1c5-9cac0b2b9063');\n",
              "        const dataTable =\n",
              "          await google.colab.kernel.invokeFunction('convertToInteractive',\n",
              "                                                    [key], {});\n",
              "        if (!dataTable) return;\n",
              "\n",
              "        const docLinkHtml = 'Like what you see? Visit the ' +\n",
              "          '<a target=\"_blank\" href=https://colab.research.google.com/notebooks/data_table.ipynb>data table notebook</a>'\n",
              "          + ' to learn more about interactive tables.';\n",
              "        element.innerHTML = '';\n",
              "        dataTable['output_type'] = 'display_data';\n",
              "        await google.colab.output.renderOutput(dataTable, element);\n",
              "        const docLink = document.createElement('div');\n",
              "        docLink.innerHTML = docLinkHtml;\n",
              "        element.appendChild(docLink);\n",
              "      }\n",
              "    </script>\n",
              "  </div>\n",
              "\n",
              "\n",
              "<div id=\"df-4700da88-2ae3-4737-931a-46ce12314f9a\">\n",
              "  <button class=\"colab-df-quickchart\" onclick=\"quickchart('df-4700da88-2ae3-4737-931a-46ce12314f9a')\"\n",
              "            title=\"Suggest charts\"\n",
              "            style=\"display:none;\">\n",
              "\n",
              "<svg xmlns=\"http://www.w3.org/2000/svg\" height=\"24px\"viewBox=\"0 0 24 24\"\n",
              "     width=\"24px\">\n",
              "    <g>\n",
              "        <path d=\"M19 3H5c-1.1 0-2 .9-2 2v14c0 1.1.9 2 2 2h14c1.1 0 2-.9 2-2V5c0-1.1-.9-2-2-2zM9 17H7v-7h2v7zm4 0h-2V7h2v10zm4 0h-2v-4h2v4z\"/>\n",
              "    </g>\n",
              "</svg>\n",
              "  </button>\n",
              "\n",
              "<style>\n",
              "  .colab-df-quickchart {\n",
              "      --bg-color: #E8F0FE;\n",
              "      --fill-color: #1967D2;\n",
              "      --hover-bg-color: #E2EBFA;\n",
              "      --hover-fill-color: #174EA6;\n",
              "      --disabled-fill-color: #AAA;\n",
              "      --disabled-bg-color: #DDD;\n",
              "  }\n",
              "\n",
              "  [theme=dark] .colab-df-quickchart {\n",
              "      --bg-color: #3B4455;\n",
              "      --fill-color: #D2E3FC;\n",
              "      --hover-bg-color: #434B5C;\n",
              "      --hover-fill-color: #FFFFFF;\n",
              "      --disabled-bg-color: #3B4455;\n",
              "      --disabled-fill-color: #666;\n",
              "  }\n",
              "\n",
              "  .colab-df-quickchart {\n",
              "    background-color: var(--bg-color);\n",
              "    border: none;\n",
              "    border-radius: 50%;\n",
              "    cursor: pointer;\n",
              "    display: none;\n",
              "    fill: var(--fill-color);\n",
              "    height: 32px;\n",
              "    padding: 0;\n",
              "    width: 32px;\n",
              "  }\n",
              "\n",
              "  .colab-df-quickchart:hover {\n",
              "    background-color: var(--hover-bg-color);\n",
              "    box-shadow: 0 1px 2px rgba(60, 64, 67, 0.3), 0 1px 3px 1px rgba(60, 64, 67, 0.15);\n",
              "    fill: var(--button-hover-fill-color);\n",
              "  }\n",
              "\n",
              "  .colab-df-quickchart-complete:disabled,\n",
              "  .colab-df-quickchart-complete:disabled:hover {\n",
              "    background-color: var(--disabled-bg-color);\n",
              "    fill: var(--disabled-fill-color);\n",
              "    box-shadow: none;\n",
              "  }\n",
              "\n",
              "  .colab-df-spinner {\n",
              "    border: 2px solid var(--fill-color);\n",
              "    border-color: transparent;\n",
              "    border-bottom-color: var(--fill-color);\n",
              "    animation:\n",
              "      spin 1s steps(1) infinite;\n",
              "  }\n",
              "\n",
              "  @keyframes spin {\n",
              "    0% {\n",
              "      border-color: transparent;\n",
              "      border-bottom-color: var(--fill-color);\n",
              "      border-left-color: var(--fill-color);\n",
              "    }\n",
              "    20% {\n",
              "      border-color: transparent;\n",
              "      border-left-color: var(--fill-color);\n",
              "      border-top-color: var(--fill-color);\n",
              "    }\n",
              "    30% {\n",
              "      border-color: transparent;\n",
              "      border-left-color: var(--fill-color);\n",
              "      border-top-color: var(--fill-color);\n",
              "      border-right-color: var(--fill-color);\n",
              "    }\n",
              "    40% {\n",
              "      border-color: transparent;\n",
              "      border-right-color: var(--fill-color);\n",
              "      border-top-color: var(--fill-color);\n",
              "    }\n",
              "    60% {\n",
              "      border-color: transparent;\n",
              "      border-right-color: var(--fill-color);\n",
              "    }\n",
              "    80% {\n",
              "      border-color: transparent;\n",
              "      border-right-color: var(--fill-color);\n",
              "      border-bottom-color: var(--fill-color);\n",
              "    }\n",
              "    90% {\n",
              "      border-color: transparent;\n",
              "      border-bottom-color: var(--fill-color);\n",
              "    }\n",
              "  }\n",
              "</style>\n",
              "\n",
              "  <script>\n",
              "    async function quickchart(key) {\n",
              "      const quickchartButtonEl =\n",
              "        document.querySelector('#' + key + ' button');\n",
              "      quickchartButtonEl.disabled = true;  // To prevent multiple clicks.\n",
              "      quickchartButtonEl.classList.add('colab-df-spinner');\n",
              "      try {\n",
              "        const charts = await google.colab.kernel.invokeFunction(\n",
              "            'suggestCharts', [key], {});\n",
              "      } catch (error) {\n",
              "        console.error('Error during call to suggestCharts:', error);\n",
              "      }\n",
              "      quickchartButtonEl.classList.remove('colab-df-spinner');\n",
              "      quickchartButtonEl.classList.add('colab-df-quickchart-complete');\n",
              "    }\n",
              "    (() => {\n",
              "      let quickchartButtonEl =\n",
              "        document.querySelector('#df-4700da88-2ae3-4737-931a-46ce12314f9a button');\n",
              "      quickchartButtonEl.style.display =\n",
              "        google.colab.kernel.accessAllowed ? 'block' : 'none';\n",
              "    })();\n",
              "  </script>\n",
              "</div>\n",
              "    </div>\n",
              "  </div>\n"
            ],
            "application/vnd.google.colaboratory.intrinsic+json": {
              "type": "dataframe",
              "variable_name": "df1",
              "summary": "{\n  \"name\": \"df1\",\n  \"rows\": 350,\n  \"fields\": [\n    {\n      \"column\": \"COMMENT_ID\",\n      \"properties\": {\n        \"dtype\": \"string\",\n        \"num_unique_values\": 350,\n        \"samples\": [\n          \"z12lg1vizrmsgxm3q23oij4aqrjxjdd1p\",\n          \"z13qyxk5tzq1e5asx22xjt3wdq3ns32f5\",\n          \"z12ig3jrnlfvsthaa04chjkrply5zligbdg\"\n        ],\n        \"semantic_type\": \"\",\n        \"description\": \"\"\n      }\n    },\n    {\n      \"column\": \"AUTHOR\",\n      \"properties\": {\n        \"dtype\": \"string\",\n        \"num_unique_values\": 345,\n        \"samples\": [\n          \"Romeo Sweeney\",\n          \"thevlogmasters Vlog, Challenges en nog veel meer!\",\n          \"Oopsthenameistoolong Oh well\"\n        ],\n        \"semantic_type\": \"\",\n        \"description\": \"\"\n      }\n    },\n    {\n      \"column\": \"DATE\",\n      \"properties\": {\n        \"dtype\": \"object\",\n        \"num_unique_values\": 350,\n        \"samples\": [\n          \"2014-11-06T13:41:30\",\n          \"2014-11-14T11:50:02\",\n          \"2014-11-12T05:46:27\"\n        ],\n        \"semantic_type\": \"\",\n        \"description\": \"\"\n      }\n    },\n    {\n      \"column\": \"CONTENT\",\n      \"properties\": {\n        \"dtype\": \"string\",\n        \"num_unique_values\": 349,\n        \"samples\": [\n          \"\\ud83d\\ude2b\\ud83d\\ude13\\ud83d\\ude0f\\ud83d\\ude2a\\ud83d\\ude14\\ud83d\\ude16\\ud83d\\ude0c\\ud83d\\ude2d\\ud83d\\ude0e\\ud83d\\ude1a\\ud83d\\ude18\\ud83d\\ude19\\ud83d\\ude17\\ud83d\\ude0b\\ud83d\\ude1d\\ud83d\\ude1c\\ud83d\\ude1b\\ud83d\\ude0d\\ud83d\\ude12\\ud83d\\ude1e\\ud83d\\ude37\\ud83d\\ude36\\ud83d\\ude35\\ud83d\\ude33\\ud83d\\ude32\\ud83d\\ude31\\ud83d\\ude1f\\ud83d\\ude30\\ud83d\\ude29\\ud83d\\ude28\\ud83d\\ude27\\ud83d\\ude26\\ud83d\\ude25\\ud83d\\ude24\\ud83d\\ude23\\ud83d\\ude2e\\ud83d\\ude34\\ud83d\\ude22\\ud83d\\ude21\\ud83d\\ude20\\ud83d\\ude2c\\ud83d\\ude15\\ud83d\\ude11\\ud83d\\ude10\\ud83d\\ude2f\\ud83d\\ude09\\ud83d\\ude08\\ud83d\\ude07\\ud83d\\ude06\\ud83d\\ude05\\ud83d\\ude04\\ud83d\\ude03\\ud83d\\ude02\\ud83d\\ude01\\ud83d\\ude00\\ud83d\\ude0a\\u263a  every single types of face on earth\\ufeff\",\n          \"Why does a song like this have more views than Michael Jackson SMH\\ufeff\",\n          \"just came to check the view count\\ufeff\"\n        ],\n        \"semantic_type\": \"\",\n        \"description\": \"\"\n      }\n    },\n    {\n      \"column\": \"CLASS\",\n      \"properties\": {\n        \"dtype\": \"number\",\n        \"std\": 0,\n        \"min\": 0,\n        \"max\": 1,\n        \"num_unique_values\": 2,\n        \"samples\": [\n          0,\n          1\n        ],\n        \"semantic_type\": \"\",\n        \"description\": \"\"\n      }\n    }\n  ]\n}"
            }
          },
          "metadata": {},
          "execution_count": 3
        }
      ]
    },
    {
      "cell_type": "code",
      "source": [
        "df1.info()"
      ],
      "metadata": {
        "colab": {
          "base_uri": "https://localhost:8080/"
        },
        "id": "UuEEPr0jKSHY",
        "outputId": "23b0888a-538c-4a36-ecca-d7da39e2dd1b"
      },
      "execution_count": null,
      "outputs": [
        {
          "output_type": "stream",
          "name": "stdout",
          "text": [
            "<class 'pandas.core.frame.DataFrame'>\n",
            "RangeIndex: 350 entries, 0 to 349\n",
            "Data columns (total 5 columns):\n",
            " #   Column      Non-Null Count  Dtype \n",
            "---  ------      --------------  ----- \n",
            " 0   COMMENT_ID  350 non-null    object\n",
            " 1   AUTHOR      350 non-null    object\n",
            " 2   DATE        350 non-null    object\n",
            " 3   CONTENT     350 non-null    object\n",
            " 4   CLASS       350 non-null    int64 \n",
            "dtypes: int64(1), object(4)\n",
            "memory usage: 13.8+ KB\n"
          ]
        }
      ]
    },
    {
      "cell_type": "code",
      "source": [
        "df=df1.iloc[:,3:5]"
      ],
      "metadata": {
        "id": "McEZPe7cnhX3"
      },
      "execution_count": null,
      "outputs": []
    },
    {
      "cell_type": "code",
      "source": [
        "X_train,X_test,y_train,y_test=train_test_split(df['CONTENT'], df['CLASS'], test_size=0.2,shuffle=True)\n"
      ],
      "metadata": {
        "id": "OzUPY9HPpBWQ"
      },
      "execution_count": null,
      "outputs": []
    },
    {
      "cell_type": "code",
      "source": [
        "#Collect all the comments we have in \"CONTENT\", and transform it in token (by words)\n",
        "count_vectorizer = CountVectorizer()\n",
        "x_train = count_vectorizer.fit_transform(X_train)"
      ],
      "metadata": {
        "id": "yup087FhqvA0"
      },
      "execution_count": null,
      "outputs": []
    },
    {
      "cell_type": "code",
      "source": [
        "#Let's see the dimension after vectorizer\n",
        "print(\"\\nDimensions of training data:\", X_train.shape)\n",
        "X_train"
      ],
      "metadata": {
        "colab": {
          "base_uri": "https://localhost:8080/"
        },
        "id": "EXgh5tBnrZty",
        "outputId": "4d5641bf-4c1e-4f88-85b2-b960ce037536"
      },
      "execution_count": null,
      "outputs": [
        {
          "output_type": "stream",
          "name": "stdout",
          "text": [
            "\n",
            "Dimensions of training data: (280,)\n"
          ]
        },
        {
          "output_type": "execute_result",
          "data": {
            "text/plain": [
              "23                              just checking the views﻿\n",
              "318    Check out my Music Videos! and PLEASE SUBSCRIB...\n",
              "163                           I found out this song now﻿\n",
              "305                    please throw a sub on my channel﻿\n",
              "6                              Subscribe to my channel ﻿\n",
              "                             ...                        \n",
              "254    How did THIS Video in all of YouTube get this ...\n",
              "274    You know a song sucks dick when you need to us...\n",
              "14     please like :D https://premium.easypromosapp.c...\n",
              "328    Haha its so funny to see the salt of westerner...\n",
              "0      Huh, anyway check out this you[tube] channel: ...\n",
              "Name: CONTENT, Length: 280, dtype: object"
            ]
          },
          "metadata": {},
          "execution_count": 9
        }
      ]
    },
    {
      "cell_type": "code",
      "source": [
        "#Comparing the number of time a word appears adding a weight to it, so we can see if\n",
        "#the word is important in the the model, basically if a word appears many times,\n",
        "#for instance,the word \"and\", it will have a low weight,however if we compare to the\n",
        "#word \"subscribe\" may not appear so often then the weight it will be higher.\n",
        "\n",
        "tfidf = TfidfTransformer()\n",
        "train_tfidf = tfidf.fit_transform(x_train)\n",
        "\n",
        "\n",
        "# Naive Bayes classifier -- to gives the tag with the highest probability (get the words\n",
        "# we trated before based on the wighets added in the trasformer section)\n",
        "classifier = MultinomialNB().fit(train_tfidf, y_train)\n",
        "print(train_tfidf)"
      ],
      "metadata": {
        "colab": {
          "base_uri": "https://localhost:8080/"
        },
        "id": "W-uISUC1s9JA",
        "outputId": "ec5696a6-63fb-4ee0-9dcf-2a08696975db"
      },
      "execution_count": null,
      "outputs": [
        {
          "output_type": "stream",
          "name": "stdout",
          "text": [
            "  (0, 1071)\t0.4001885472857077\n",
            "  (0, 991)\t0.3364417290228571\n",
            "  (0, 577)\t0.487219094441407\n",
            "  (0, 254)\t0.6994809815893215\n",
            "  (1, 1063)\t0.20272376151310242\n",
            "  (1, 952)\t0.15925974232532253\n",
            "  (1, 851)\t0.301361644989599\n",
            "  (1, 793)\t0.1675882384976507\n",
            "  (1, 757)\t0.15925974232532253\n",
            "  (1, 711)\t0.13336607072989975\n",
            "  (1, 708)\t0.19922652356419576\n",
            "  (1, 604)\t0.602723289979198\n",
            "  (1, 581)\t0.301361644989599\n",
            "  (1, 531)\t0.301361644989599\n",
            "  (1, 433)\t0.301361644989599\n",
            "  (1, 269)\t0.2378592845285541\n",
            "  (1, 253)\t0.1446771827171352\n",
            "  (1, 151)\t0.13620923709010932\n",
            "  (2, 1004)\t0.2752487945659333\n",
            "  (2, 917)\t0.393911277243106\n",
            "  (2, 757)\t0.3443702786893883\n",
            "  (2, 733)\t0.4752332389435143\n",
            "  (2, 423)\t0.6516398441695805\n",
            "  (3, 1006)\t0.6128974181710967\n",
            "  (3, 950)\t0.48374882404363884\n",
            "  :\t:\n",
            "  (278, 1016)\t0.2214178398936418\n",
            "  (278, 1011)\t0.19335768092982142\n",
            "  (278, 1001)\t0.18221509731407512\n",
            "  (278, 991)\t0.19335768092982142\n",
            "  (278, 990)\t0.15709025179896366\n",
            "  (278, 911)\t0.1417824429942592\n",
            "  (278, 881)\t0.18221509731407512\n",
            "  (278, 869)\t0.47524773154726613\n",
            "  (278, 738)\t0.2511528342285359\n",
            "  (278, 583)\t0.20991948154385412\n",
            "  (278, 561)\t0.19371345566386283\n",
            "  (278, 489)\t0.23762386577363306\n",
            "  (278, 459)\t0.23762386577363306\n",
            "  (278, 436)\t0.17329627767895492\n",
            "  (278, 380)\t0.16948682722403816\n",
            "  (278, 341)\t0.18755221057336696\n",
            "  (279, 1145)\t0.22614301669185982\n",
            "  (279, 1029)\t0.4440942171292483\n",
            "  (279, 1004)\t0.18758275607640265\n",
            "  (279, 757)\t0.23468922394092623\n",
            "  (279, 595)\t0.4440942171292483\n",
            "  (279, 527)\t0.4440942171292483\n",
            "  (279, 253)\t0.21319999164939804\n",
            "  (279, 252)\t0.22415095597193957\n",
            "  (279, 161)\t0.41380684530941975\n"
          ]
        }
      ]
    },
    {
      "cell_type": "code",
      "source": [
        "# Store all the comments array in a variable\n",
        "input_data = np.array(df[\"CONTENT\"])\n",
        "\n",
        "\n",
        "# Transform input data using count vectorizer\n",
        "input_tc = count_vectorizer.transform(input_data)\n",
        "type(input_tc)\n",
        "print(input_tc)\n",
        "# Transform vectorized data using tfidf transformer\n",
        "input_tfidf = tfidf.transform(input_tc)\n",
        "type(input_tfidf)\n",
        "print(input_tfidf)\n",
        "# Predict the output categories\n",
        "predictions = classifier.predict(input_tfidf)"
      ],
      "metadata": {
        "colab": {
          "base_uri": "https://localhost:8080/"
        },
        "id": "ZD8lnMXBs_am",
        "outputId": "38e83ce9-59a6-4f27-d456-112a0dd85203"
      },
      "execution_count": null,
      "outputs": [
        {
          "output_type": "stream",
          "name": "stdout",
          "text": [
            "  (0, 161)\t1\n",
            "  (0, 252)\t1\n",
            "  (0, 253)\t1\n",
            "  (0, 527)\t1\n",
            "  (0, 595)\t1\n",
            "  (0, 757)\t1\n",
            "  (0, 1004)\t1\n",
            "  (0, 1029)\t1\n",
            "  (0, 1145)\t1\n",
            "  (1, 151)\t2\n",
            "  (1, 252)\t1\n",
            "  (1, 253)\t1\n",
            "  (1, 279)\t1\n",
            "  (1, 413)\t1\n",
            "  (1, 482)\t1\n",
            "  (1, 511)\t1\n",
            "  (1, 544)\t1\n",
            "  (1, 556)\t1\n",
            "  (1, 614)\t1\n",
            "  (1, 619)\t1\n",
            "  (1, 691)\t1\n",
            "  (1, 692)\t1\n",
            "  (1, 711)\t1\n",
            "  (1, 721)\t1\n",
            "  (1, 756)\t1\n",
            "  :\t:\n",
            "  (348, 711)\t1\n",
            "  (348, 783)\t2\n",
            "  (348, 792)\t1\n",
            "  (348, 793)\t1\n",
            "  (348, 938)\t1\n",
            "  (348, 989)\t1\n",
            "  (349, 151)\t1\n",
            "  (349, 193)\t1\n",
            "  (349, 205)\t3\n",
            "  (349, 234)\t1\n",
            "  (349, 413)\t2\n",
            "  (349, 491)\t1\n",
            "  (349, 523)\t1\n",
            "  (349, 558)\t1\n",
            "  (349, 755)\t1\n",
            "  (349, 839)\t1\n",
            "  (349, 881)\t1\n",
            "  (349, 947)\t1\n",
            "  (349, 991)\t3\n",
            "  (349, 1001)\t1\n",
            "  (349, 1004)\t1\n",
            "  (349, 1011)\t1\n",
            "  (349, 1067)\t1\n",
            "  (349, 1086)\t1\n",
            "  (349, 1101)\t1\n",
            "  (0, 1145)\t0.22614301669185982\n",
            "  (0, 1029)\t0.4440942171292483\n",
            "  (0, 1004)\t0.18758275607640265\n",
            "  (0, 757)\t0.23468922394092623\n",
            "  (0, 595)\t0.4440942171292483\n",
            "  (0, 527)\t0.4440942171292483\n",
            "  (0, 253)\t0.21319999164939804\n",
            "  (0, 252)\t0.22415095597193957\n",
            "  (0, 161)\t0.41380684530941975\n",
            "  (1, 1108)\t0.25204386479889895\n",
            "  (1, 1061)\t0.25204386479889895\n",
            "  (1, 1051)\t0.20546878938322422\n",
            "  (1, 1004)\t0.10646182946661893\n",
            "  (1, 991)\t0.3076371371501704\n",
            "  (1, 952)\t0.13319691350880586\n",
            "  (1, 891)\t0.25204386479889895\n",
            "  (1, 793)\t0.2803249054951591\n",
            "  (1, 757)\t0.13319691350880586\n",
            "  (1, 756)\t0.19893365445674693\n",
            "  (1, 721)\t0.1726898211097403\n",
            "  (1, 711)\t0.11154073671507661\n",
            "  (1, 692)\t0.25204386479889895\n",
            "  (1, 691)\t0.25204386479889895\n",
            "  (1, 619)\t0.1466975876740568\n",
            "  (1, 614)\t0.2348543902378079\n",
            "  :\t:\n",
            "  (348, 342)\t0.21178292132810647\n",
            "  (348, 321)\t0.2272837477548844\n",
            "  (348, 274)\t0.21822798520829398\n",
            "  (348, 228)\t0.2272837477548844\n",
            "  (348, 167)\t0.2007849099530285\n",
            "  (348, 152)\t0.21178292132810647\n",
            "  (349, 1101)\t0.22839801917910224\n",
            "  (349, 1086)\t0.19346477866551068\n",
            "  (349, 1067)\t0.19982025650334967\n",
            "  (349, 1011)\t0.09972663299996418\n",
            "  (349, 1004)\t0.1035350922916011\n",
            "  (349, 1001)\t0.18795941334742103\n",
            "  (349, 991)\t0.2991798989998925\n",
            "  (349, 947)\t0.24511493869892617\n",
            "  (349, 881)\t0.18795941334742103\n",
            "  (349, 839)\t0.21653717602317363\n",
            "  (349, 755)\t0.22839801917910224\n",
            "  (349, 558)\t0.12710926861965738\n",
            "  (349, 523)\t0.16488701598975816\n",
            "  (349, 491)\t0.22839801917910224\n",
            "  (349, 413)\t0.39964051300669934\n",
            "  (349, 234)\t0.19982025650334967\n",
            "  (349, 205)\t0.41342596436384776\n",
            "  (349, 193)\t0.22839801917910224\n",
            "  (349, 151)\t0.11078688796220879\n"
          ]
        }
      ]
    },
    {
      "cell_type": "code",
      "source": [
        "\n",
        "#confusion matrix\n",
        "confusion_matrix = confusion_matrix(np.array(df[\"CLASS\"]),predictions)\n",
        "confusion_matrix"
      ],
      "metadata": {
        "colab": {
          "base_uri": "https://localhost:8080/"
        },
        "id": "YncnPSXXtH4B",
        "outputId": "09380b97-1e97-42f0-d11c-beb431a3abdb"
      },
      "execution_count": null,
      "outputs": [
        {
          "output_type": "execute_result",
          "data": {
            "text/plain": [
              "array([[170,   5],\n",
              "       [  1, 174]])"
            ]
          },
          "metadata": {},
          "execution_count": 17
        }
      ]
    },
    {
      "cell_type": "markdown",
      "source": [
        "it is pretty good result"
      ],
      "metadata": {
        "id": "l2-GmtCJZp_X"
      }
    },
    {
      "cell_type": "markdown",
      "source": [
        "##word2vec"
      ],
      "metadata": {
        "id": "oQ6ZkeYkPcMp"
      }
    },
    {
      "cell_type": "code",
      "source": [
        "from gensim.models import Word2Vec\n",
        "from nltk.tokenize import word_tokenize\n",
        "import nltk\n",
        "nltk.download('punkt')"
      ],
      "metadata": {
        "colab": {
          "base_uri": "https://localhost:8080/"
        },
        "id": "TL7H0X8aQXbb",
        "outputId": "bf896aac-9d73-4a37-a61d-d1d94822d9e6"
      },
      "execution_count": null,
      "outputs": [
        {
          "output_type": "stream",
          "name": "stderr",
          "text": [
            "[nltk_data] Downloading package punkt to /root/nltk_data...\n",
            "[nltk_data]   Unzipping tokenizers/punkt.zip.\n"
          ]
        },
        {
          "output_type": "execute_result",
          "data": {
            "text/plain": [
              "True"
            ]
          },
          "metadata": {},
          "execution_count": 21
        }
      ]
    },
    {
      "cell_type": "code",
      "source": [
        "import matplotlib.pyplot as plt\n",
        "\n",
        "# Plot the distribution of the CLASS column\n",
        "plt.figure(figsize=(6, 4))\n",
        "df['CLASS'].value_counts().plot(kind='bar')\n",
        "plt.title('Distribution of Classes')\n",
        "plt.xlabel('Class')\n",
        "plt.ylabel('Count')\n",
        "plt.show()"
      ],
      "metadata": {
        "colab": {
          "base_uri": "https://localhost:8080/",
          "height": 405
        },
        "id": "lpm1kDk232in",
        "outputId": "944b1748-0b51-4e18-9a7d-bdda7e5f19e0"
      },
      "execution_count": null,
      "outputs": [
        {
          "output_type": "display_data",
          "data": {
            "text/plain": [
              "<Figure size 600x400 with 1 Axes>"
            ],
            "image/png": "[encoded data removed]"
          },
          "metadata": {}
        }
      ]
    },
    {
      "cell_type": "code",
      "source": [
        "df['CONTENT_TOKENIZED'] = df['CONTENT'].apply(lambda x: word_tokenize(x.lower()))"
      ],
      "metadata": {
        "id": "e6wZo1THPfL9"
      },
      "execution_count": null,
      "outputs": []
    },
    {
      "cell_type": "code",
      "source": [
        "# Train Word2Vec model\n",
        "sentences = df['CONTENT_TOKENIZED'].tolist()\n",
        "word2vec_model = Word2Vec(sentences, vector_size=100, window=5, min_count=1, workers=4)\n"
      ],
      "metadata": {
        "id": "bc99SU1aTQ3a"
      },
      "execution_count": null,
      "outputs": []
    },
    {
      "cell_type": "code",
      "source": [
        "# Word Embedding Oluşturma\n",
        "sentences = [content.split() for content in df1['CONTENT']]\n",
        "word2vec_model = Word2Vec(sentences, vector_size=100, window=5, min_count=1, workers=4)\n",
        "\n",
        "# Özellik Çıkarımı\n",
        "X = []\n",
        "for tokens in sentences:\n",
        "    sentence_vector = np.mean([word2vec_model.wv[token] for token in tokens], axis=0)\n",
        "    X.append(sentence_vector)\n",
        "X = np.array(X)\n",
        "\n",
        "# Eğitim ve test verisi ayırma\n",
        "X_train, X_test, y_train, y_test = train_test_split(X, df1['CLASS'], test_size=0.2, random_state=42)\n",
        "\n",
        "# Sınıflandırma Modeli Eğitimi\n",
        "model = LogisticRegression()\n",
        "model.fit(X_train, y_train)\n",
        "\n",
        "# Modelin Değerlendirilmesi\n",
        "y_pred = model.predict(X_test)\n",
        "accuracy = accuracy_score(y_test, y_pred)\n",
        "print(\"Model Accuracy:\", accuracy)"
      ],
      "metadata": {
        "colab": {
          "base_uri": "https://localhost:8080/"
        },
        "id": "cmQ-LPaZTXdD",
        "outputId": "1f038db4-af71-46b7-df76-5cd9fdc120c0"
      },
      "execution_count": null,
      "outputs": [
        {
          "output_type": "stream",
          "name": "stdout",
          "text": [
            "Model Accuracy: 0.38571428571428573\n"
          ]
        }
      ]
    },
    {
      "cell_type": "markdown",
      "source": [
        "maybe dataset is too small for word2vec\n",
        "\n",
        "\n"
      ],
      "metadata": {
        "id": "6Qz975eoZbWV"
      }
    },
    {
      "cell_type": "code",
      "source": [],
      "metadata": {
        "id": "9S4RFfIaT0vk"
      },
      "execution_count": null,
      "outputs": []
    }
  ]
}